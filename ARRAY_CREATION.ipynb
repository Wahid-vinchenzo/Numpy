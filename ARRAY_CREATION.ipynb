{
  "nbformat": 4,
  "nbformat_minor": 0,
  "metadata": {
    "colab": {
      "provenance": []
    },
    "kernelspec": {
      "name": "python3",
      "display_name": "Python 3"
    },
    "language_info": {
      "name": "python"
    }
  },
  "cells": [
    {
      "cell_type": "markdown",
      "source": [
        "# **Array Creation**"
      ],
      "metadata": {
        "id": "Y80THXSom_xQ"
      }
    },
    {
      "cell_type": "code",
      "source": [
        "import numpy as np"
      ],
      "metadata": {
        "id": "Meu6GUVynSiV"
      },
      "execution_count": null,
      "outputs": []
    },
    {
      "cell_type": "code",
      "source": [
        "arr_list=np.array([1,2,4,3])\n",
        "print(arr_list)\n",
        "arr_2d=np.array([[1,2,3],[4,5,6]])\n",
        "print(arr_2d)"
      ],
      "metadata": {
        "colab": {
          "base_uri": "https://localhost:8080/"
        },
        "collapsed": true,
        "id": "nB64rnQonW4K",
        "outputId": "9b565b52-0d02-46b0-8cc6-d8de572d422d"
      },
      "execution_count": null,
      "outputs": [
        {
          "output_type": "stream",
          "name": "stdout",
          "text": [
            "[1 2 4 3]\n",
            "[[1 2 3]\n",
            " [4 5 6]]\n"
          ]
        }
      ]
    },
    {
      "cell_type": "code",
      "source": [
        "#ALL ARRAY ELEMENT ARE ZERO SYNTAX:- arr_name=np.zeros((row,col))\n",
        "arr_zeros=np.zeros((3,4))\n",
        "print(arr_zeros)\n",
        "\n",
        "#ALL ARRAY ELEMENT ARE ONE SYNTAX:- arr_name=np.zeros((row,col))\n",
        "arr_ones=np.ones((3,4))\n",
        "print(arr_ones)\n",
        "\n",
        "#ALL ARRAY ELEMENT ARE SPECIFIED  VALUE SYNTAX:- arr_name=np.full((row,col),value)\n",
        "arr_full=np.full((3,4),7)\n",
        "print(arr_full)\n",
        "\n",
        "#FOR UNINITIALIZED VALUE SYNTAX:\n",
        "arr_empty=np.empty((2,2))\n",
        "print(arr_empty)\n",
        "\n",
        "#LIKE EXISTING ARRAYS\n",
        "arr_like=np.zeros_like(arr_list) #same shape and data type lik arr_list array for element 0\n",
        "print(arr_like)\n",
        "\n",
        "arr_like=np.ones_like(arr_list) #same shape and data type lik arr_list array for element 1\n",
        "print(arr_like)\n",
        "\n",
        "arr_like=np.full_like(arr_list,5) #same shape and data type lik arr_list array for element 5\n",
        "print(arr_like)\n",
        "\n",
        "arr_like=np.empty_like(arr_list) #same shape and data type lik arr_list array for empty\n",
        "print(arr_like)"
      ],
      "metadata": {
        "colab": {
          "base_uri": "https://localhost:8080/"
        },
        "collapsed": true,
        "id": "XAXYgZgmnydV",
        "outputId": "64dd8672-3e84-4a74-c0d5-2b5989306e15"
      },
      "execution_count": null,
      "outputs": [
        {
          "output_type": "stream",
          "name": "stdout",
          "text": [
            "[[0. 0. 0. 0.]\n",
            " [0. 0. 0. 0.]\n",
            " [0. 0. 0. 0.]]\n",
            "[[1. 1. 1. 1.]\n",
            " [1. 1. 1. 1.]\n",
            " [1. 1. 1. 1.]]\n",
            "[[7 7 7 7]\n",
            " [7 7 7 7]\n",
            " [7 7 7 7]]\n",
            "[[5.e-324 5.e-324]\n",
            " [5.e-324 5.e-324]]\n",
            "[0 0 0 0]\n",
            "[1 1 1 1]\n",
            "[5 5 5 5]\n",
            "[1 1 1 1]\n"
          ]
        }
      ]
    },
    {
      "cell_type": "code",
      "source": [
        "#FOR SEQUENCE SYNTAX :- arr-name=np.arrange(start,end,defference)\n",
        "range_arr=np.arange(10,30,2)\n",
        "print(range_arr)\n",
        "\n",
        "#LIN SPACE SYNTAX :- arr_name=np.linspace(start,stop,expected num of element)\n",
        "lin_arr=np.linspace(10,30,5)\n",
        "print(lin_arr)\n",
        "\n",
        "#LOG SPACE SYNTAX :-arr_name=np.logspace(start,stop,expexted num of element)\n",
        "log_arr=np.logspace(0,2,3)\n",
        "print(log_arr)\n",
        "\n",
        "#IDENTITY MATRIX SYNTAX:-arr_name=np.identity(row or col)\n",
        "eye_mat=np.eye(3)\n",
        "print(eye_mat)\n",
        "print(\"-----------------\")\n",
        "id_mat=np.identity(3)\n",
        "print(id_mat)\n",
        "\n",
        "#DIAGONAL MATRIX SYNTAX:-arr_name=np.diag(DIAGONAL ELEMNENT)\n",
        "diag_mat=np.diag([1,2,3,4])\n",
        "print(diag_mat)\n",
        "\n",
        "#EXTRACT DIAGONAL ELEMENT FROM DIAGONAL MATRIX SYNTAX:- arr_name=np.diag(DIAGONAL ARRAY NAME)\n",
        "ext_arr=np.diag(diag_mat)\n",
        "print(ext_arr)\n",
        "\n",
        "#RANDOM NUMBERS SYNTAX: np.random.seed(arguments)\n",
        "                        #arr_name=np.random.rand(row,col)\n",
        "np.random.seed(42)\n",
        "rand_arr  =np.random.rand(2,3)\n",
        "print(rand_arr)\n",
        "print(\"----------------------------------\")\n",
        "#STANDARD NORMAL DISTRIBUTION :arr_name=np.random.randn(row, col)\n",
        "norm_arr=np.random.randn(2,3)\n",
        "print(norm_arr)\n",
        "print(\"----------------------------------\")\n",
        "#RANDOM INTEGERS SYTAX :- arr_name=np.random.randint(low,high)\n",
        "rand_int=np.random.randint(15,20)\n",
        "print(rand_int)\n",
        "\n",
        "print(\"------------------------------------------------\")\n",
        "choice_arr = np.random.choice([1,5,10,15], size=5, replace=True, p=[0.1,0.2,0.3,0.4])\n",
        "print(choice_arr)\n",
        "\n",
        "# PERMUTATION ARRAY SYNTAX:ARR-NAME=np.random,permutation(np.arange(value))\n",
        "perm_arr=np.random.permutation(np.arange(10))\n",
        "print(perm_arr)\n",
        "#shuffle\n",
        "np.random.shuffle(perm_arr)\n",
        "print(perm_arr)\n"
      ],
      "metadata": {
        "colab": {
          "base_uri": "https://localhost:8080/"
        },
        "id": "0oM2D-o9rEux",
        "outputId": "4ac219ea-0b4a-4d39-9dc3-61962e85c1dd",
        "collapsed": true
      },
      "execution_count": 69,
      "outputs": [
        {
          "output_type": "stream",
          "name": "stdout",
          "text": [
            "[10 12 14 16 18 20 22 24 26 28]\n",
            "[10. 15. 20. 25. 30.]\n",
            "[  1.  10. 100.]\n",
            "[[1. 0. 0.]\n",
            " [0. 1. 0.]\n",
            " [0. 0. 1.]]\n",
            "-----------------\n",
            "[[1. 0. 0.]\n",
            " [0. 1. 0.]\n",
            " [0. 0. 1.]]\n",
            "[[1 0 0 0]\n",
            " [0 2 0 0]\n",
            " [0 0 3 0]\n",
            " [0 0 0 4]]\n",
            "[1 2 3 4]\n",
            "[[0.37454012 0.95071431 0.73199394]\n",
            " [0.59865848 0.15601864 0.15599452]]\n",
            "----------------------------------\n",
            "[[ 1.57921282  0.76743473 -0.46947439]\n",
            " [ 0.54256004 -0.46341769 -0.46572975]]\n",
            "----------------------------------\n",
            "18\n",
            "------------------------------------------------\n",
            "[15  1  1 10 10]\n",
            "[1 8 7 5 4 9 0 3 6 2]\n",
            "[9 7 4 3 2 1 5 8 0 6]\n"
          ]
        }
      ]
    }
  ]
}