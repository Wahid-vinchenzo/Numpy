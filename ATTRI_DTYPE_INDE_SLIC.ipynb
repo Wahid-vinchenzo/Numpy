{
  "nbformat": 4,
  "nbformat_minor": 0,
  "metadata": {
    "colab": {
      "provenance": []
    },
    "kernelspec": {
      "name": "python3",
      "display_name": "Python 3"
    },
    "language_info": {
      "name": "python"
    }
  },
  "cells": [
    {
      "cell_type": "markdown",
      "source": [
        "## **ARRAY ATTRIBUTES**"
      ],
      "metadata": {
        "id": "q6NNQPopG0p9"
      }
    },
    {
      "cell_type": "code",
      "source": [
        "import numpy as np\n",
        "arr=np.array([[1+2j,3,4],[5,6,7]])\n",
        "print(arr.ndim) #SHOW THE NUMBER OF DIMENSIONS\n",
        "print(arr.shape) #show the row col\n",
        "print(arr.dtype) #show the data type\n",
        "print(arr.size) #show the number of element\n",
        "print(arr.itemsize) #show the size of each element\n",
        "print(arr.nbytes) #show the total number of bytes\n",
        "print(arr.real) #show the real part\n",
        "print(arr.imag) #show the imaginary part of array\n",
        "print(arr.T) #transpose of array"
      ],
      "metadata": {
        "colab": {
          "base_uri": "https://localhost:8080/"
        },
        "collapsed": true,
        "id": "wixT8Pk7HAVM",
        "outputId": "5bc18e3c-87a3-4e97-eff0-f7fba3b64c15"
      },
      "execution_count": null,
      "outputs": [
        {
          "output_type": "stream",
          "name": "stdout",
          "text": [
            "2\n",
            "(2, 3)\n",
            "complex128\n",
            "6\n",
            "16\n",
            "96\n",
            "[[1. 3. 4.]\n",
            " [5. 6. 7.]]\n",
            "[[2. 0. 0.]\n",
            " [0. 0. 0.]]\n",
            "[[1.+2.j 5.+0.j]\n",
            " [3.+0.j 6.+0.j]\n",
            " [4.+0.j 7.+0.j]]\n"
          ]
        }
      ]
    },
    {
      "cell_type": "markdown",
      "source": [
        "## **DATA TYPE**"
      ],
      "metadata": {
        "id": "B1tkWktSJLD8"
      }
    },
    {
      "cell_type": "code",
      "source": [
        "#SPECIFY DATA TYPE DURING CREATION\n",
        "arr=np.array([[1,2,3],[4,5,6]],dtype=np.float32)\n",
        "print(arr)\n",
        "\n",
        "#convert data type\n",
        "arr=arr.astype(np.int16)\n",
        "print(arr)\n",
        "#Ex-2\n",
        "bool_arr=np.array([1,0,-1,0],dtype=np.bool_)\n",
        "print(bool_arr)\n",
        "'''\n",
        "Common dtypes:\n",
        "np.int8, np.int16, np.int32, np.int64,\n",
        "np.uint8 (unsigned), np.float16, np.float32,\n",
        " np.float64, np.complex64, np.complex128,\n",
        " np.bool_, np.string_, np.object_.\n",
        "\n",
        " '''\n",
        "\n"
      ],
      "metadata": {
        "colab": {
          "base_uri": "https://localhost:8080/",
          "height": 157
        },
        "collapsed": true,
        "id": "wSnpK8N6JWD2",
        "outputId": "e1dedfd3-00d4-4f71-e88f-3e27514c842e"
      },
      "execution_count": null,
      "outputs": [
        {
          "output_type": "stream",
          "name": "stdout",
          "text": [
            "[[1. 2. 3.]\n",
            " [4. 5. 6.]]\n",
            "[[1 2 3]\n",
            " [4 5 6]]\n",
            "[ True False  True False]\n"
          ]
        },
        {
          "output_type": "execute_result",
          "data": {
            "text/plain": [
              "'\\nCommon dtypes: \\nnp.int8, np.int16, np.int32, np.int64, \\nnp.uint8 (unsigned), np.float16, np.float32,\\n np.float64, np.complex64, np.complex128, \\n np.bool_, np.string_, np.object_.\\n \\n '"
            ],
            "application/vnd.google.colaboratory.intrinsic+json": {
              "type": "string"
            }
          },
          "metadata": {},
          "execution_count": 9
        }
      ]
    },
    {
      "cell_type": "markdown",
      "source": [
        "## **Indexing and Slicing**"
      ],
      "metadata": {
        "id": "DrpIqo0vKyEF"
      }
    },
    {
      "cell_type": "code",
      "source": [
        "import numpy as np\n",
        "arr1d=np.arange(10)\n",
        "print(arr1d)\n",
        "print(arr1d[2:5])\n",
        "arr2d = np.array([[1,2,3],[4,5,6],[7,8,9]])\n",
        "\n",
        "print(arr2d)\n",
        "print(arr2d[:2,1:])\n",
        "print(\"xxxxxxxxxxxxxxx\")\n",
        "#boolean index\n",
        "bool_idx=(arr1d>5)\n",
        "print(bool_idx)\n",
        "print(arr1d[bool_idx])\n",
        "print(\"...........................\")\n",
        "#we can manipulate the index via condition\n",
        "print(arr2d[arr2d%2==0])\n",
        "print(arr1d[(arr1d > 4) & (arr1d < 8)])\n",
        "\n",
        "print(\",,,,,,,,,,,,,,,,,,,,,,,,,,,,,,,\")\n",
        "#indices- make a copy in in other array\n",
        "indices = np.array([1,0,2])\n",
        "print(arr1d[indices])\n",
        "print(\"..................\")\n",
        "row_indices=np.array([0,2])\n",
        "col_indices=np.array([1,0])\n",
        "print(arr2d[row_indices,col_indices])\n",
        "print(\"............................\")\n",
        "print(arr2d[row_indices])\n",
        "print(\"............................\")\n",
        "print(arr2d[col_indices])"
      ],
      "metadata": {
        "colab": {
          "base_uri": "https://localhost:8080/"
        },
        "id": "mt7uzT1OK3d5",
        "outputId": "214cdc0d-926e-4406-a7cc-4975751f103b"
      },
      "execution_count": 17,
      "outputs": [
        {
          "output_type": "stream",
          "name": "stdout",
          "text": [
            "[0 1 2 3 4 5 6 7 8 9]\n",
            "[2 3 4]\n",
            "[[1 2 3]\n",
            " [4 5 6]\n",
            " [7 8 9]]\n",
            "[[2 3]\n",
            " [5 6]]\n",
            "xxxxxxxxxxxxxxx\n",
            "[False False False False False False  True  True  True  True]\n",
            "[6 7 8 9]\n",
            "...........................\n",
            "[2 4 6 8]\n",
            "[5 6 7]\n",
            ",,,,,,,,,,,,,,,,,,,,,,,,,,,,,,,\n",
            "[1 0 2]\n",
            "..................\n",
            "[2 7]\n",
            "............................\n",
            "[[1 2 3]\n",
            " [7 8 9]]\n",
            "............................\n",
            "[[4 5 6]\n",
            " [1 2 3]]\n"
          ]
        }
      ]
    }
  ]
}