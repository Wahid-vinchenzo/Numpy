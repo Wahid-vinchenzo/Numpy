{
  "nbformat": 4,
  "nbformat_minor": 0,
  "metadata": {
    "colab": {
      "provenance": []
    },
    "kernelspec": {
      "name": "python3",
      "display_name": "Python 3"
    },
    "language_info": {
      "name": "python"
    }
  },
  "cells": [
    {
      "cell_type": "markdown",
      "source": [
        "**COPYING ARRAYS**"
      ],
      "metadata": {
        "id": "hiw9LGRqpdcy"
      }
    },
    {
      "cell_type": "code",
      "source": [
        "import numpy as np  # Import NumPy library\n",
        "\n",
        "print(\"Create a NumPy array 'a' with elements [1, 2, 3]\")\n",
        "a = np.array([1, 2, 3])\n",
        "\n",
        "print(\"Assign array 'a' to variable 'b' (no copy, just reference)\")\n",
        "b = a\n",
        "\n",
        "print(\"Create a view 'c' of array 'a' (shallow copy - shares data)\")\n",
        "c = a.view()\n",
        "\n",
        "print(\"Create a deep copy 'd' of array 'a' (independent copy)\")\n",
        "d = a.copy()\n",
        "\n",
        "print(\"Print arrays a, b, c, d\")\n",
        "print(a)\n",
        "print(b)\n",
        "print(c)\n",
        "print(d)\n",
        "\n",
        "print(\"Modify first element of 'b' to 100 (affects 'a' too because 'b' is a reference)\")\n",
        "b[0] = 100\n",
        "\n",
        "print(\"Modify first element of 'c' to 200 (affects 'a' too because 'c' is a view)\")\n",
        "c[0] = 200\n",
        "\n",
        "print(\"Modify last element of 'd' to 300 (only affects 'd' because it's a deep copy)\")\n",
        "d[2] = 300\n",
        "\n",
        "print(\"Print all arrays after modification\")\n",
        "print(f\"a: {a}, b: {b}, c: {c}, d: {d}\")\n"
      ],
      "metadata": {
        "colab": {
          "base_uri": "https://localhost:8080/"
        },
        "collapsed": true,
        "id": "KINacEDOpmDf",
        "outputId": "dfd69a22-e589-4214-bd5a-b4f2633d8a3d"
      },
      "execution_count": 5,
      "outputs": [
        {
          "output_type": "stream",
          "name": "stdout",
          "text": [
            "Create a NumPy array 'a' with elements [1, 2, 3]\n",
            "Assign array 'a' to variable 'b' (no copy, just reference)\n",
            "Create a view 'c' of array 'a' (shallow copy - shares data)\n",
            "Create a deep copy 'd' of array 'a' (independent copy)\n",
            "Print arrays a, b, c, d\n",
            "[1 2 3]\n",
            "[1 2 3]\n",
            "[1 2 3]\n",
            "[1 2 3]\n",
            "Modify first element of 'b' to 100 (affects 'a' too because 'b' is a reference)\n",
            "Modify first element of 'c' to 200 (affects 'a' too because 'c' is a view)\n",
            "Modify last element of 'd' to 300 (only affects 'd' because it's a deep copy)\n",
            "Print all arrays after modification\n",
            "a: [200   2   3], b: [200   2   3], c: [200   2   3], d: [  1   2 300]\n"
          ]
        }
      ]
    },
    {
      "cell_type": "markdown",
      "source": [
        "## **SORTING**"
      ],
      "metadata": {
        "id": "8ULH1ZLDq3lj"
      }
    },
    {
      "cell_type": "code",
      "source": [
        "import numpy as np  # Import the NumPy library\n",
        "\n",
        "print(\"Create an unsorted 1D array\")\n",
        "unsorted_array = np.array([3, 1, 4, 1, 5, 9, 2, 6, 5, 3, 5])\n",
        "\n",
        "print(\"Sort the array using np.sort() (returns a new sorted array)\")\n",
        "sorted_array = np.sort(unsorted_array)\n",
        "print(sorted_array)\n",
        "\n",
        "print(\"Sort the array in-place using .sort() (modifies the original array)\")\n",
        "unsorted_array.sort()\n",
        "print(unsorted_array)\n",
        "\n",
        "print(\"Create a 2D array for sorting along different axes\")\n",
        "arr2d = np.array([[0.3, 0.1, 0.2], [0.6, 0.5, 0.4]])\n",
        "\n",
        "print(\"Sort the 2D array along columns (axis=0)\")\n",
        "print(np.sort(arr2d, axis=0))\n",
        "\n",
        "print(\"Sort the 2D array along rows (axis=1)\")\n",
        "print(np.sort(arr2d, axis=1))\n",
        "\n",
        "print(\"Use np.argsort to get the indices that would sort the array [30, 20, 10]\")\n",
        "idx_sorted = np.argsort(np.array([30, 20, 10]))\n",
        "print(idx_sorted)\n",
        "\n",
        "print(\"Create a data array for top-k extraction\")\n",
        "data = np.array([30, 20, 10, 50, 40])\n",
        "\n",
        "print(\"Set value of k (how many top elements to extract)\")\n",
        "k = 3\n",
        "\n",
        "print(\"Get indices of the top k largest elements\")\n",
        "top_k_indices = np.argsort(data)[-k:]\n",
        "print(top_k_indices)\n",
        "\n",
        "print(\"Use previously computed sorted indices to reorder another array\")\n",
        "print(data[idx_sorted])  # Note: `idx_sorted` came from a different array\n",
        "\n",
        "print(\"Get top k values using the indices\")\n",
        "top_k_values = data[top_k_indices]\n",
        "print(top_k_values)\n"
      ],
      "metadata": {
        "colab": {
          "base_uri": "https://localhost:8080/"
        },
        "id": "p5rOYnl7q9x6",
        "outputId": "891b3065-63cb-4793-87f7-cab723f988a1"
      },
      "execution_count": 9,
      "outputs": [
        {
          "output_type": "stream",
          "name": "stdout",
          "text": [
            "Create an unsorted 1D array\n",
            "Sort the array using np.sort() (returns a new sorted array)\n",
            "[1 1 2 3 3 4 5 5 5 6 9]\n",
            "Sort the array in-place using .sort() (modifies the original array)\n",
            "[1 1 2 3 3 4 5 5 5 6 9]\n",
            "Create a 2D array for sorting along different axes\n",
            "Sort the 2D array along columns (axis=0)\n",
            "[[0.3 0.1 0.2]\n",
            " [0.6 0.5 0.4]]\n",
            "Sort the 2D array along rows (axis=1)\n",
            "[[0.1 0.2 0.3]\n",
            " [0.4 0.5 0.6]]\n",
            "Use np.argsort to get the indices that would sort the array [30, 20, 10]\n",
            "[2 1 0]\n",
            "Create a data array for top-k extraction\n",
            "Set value of k (how many top elements to extract)\n",
            "Get indices of the top k largest elements\n",
            "[0 4 3]\n",
            "Use previously computed sorted indices to reorder another array\n",
            "[10 20 30]\n",
            "Get top k values using the indices\n",
            "[30 40 50]\n"
          ]
        }
      ]
    },
    {
      "cell_type": "markdown",
      "source": [
        "# **LENEAR ALGEBRA**"
      ],
      "metadata": {
        "id": "Rx_2mjR4ti2Q"
      }
    },
    {
      "cell_type": "code",
      "source": [
        "import numpy as np  # Import NumPy library\n",
        "\n",
        "print(\"Create a 2x2 matrix A\")\n",
        "A = np.array([[1., 2.], [3., 4.]])\n",
        "\n",
        "print(\"Create a 1D vector v\")\n",
        "v = np.array([1., 0.5])\n",
        "\n",
        "print(\"Compute the inverse of matrix A\")\n",
        "A_inv = np.linalg.inv(A)\n",
        "print(A_inv)\n",
        "\n",
        "print(\"Compute the determinant of matrix A\")\n",
        "det_A = np.linalg.det(A)\n",
        "print(det_A)\n",
        "\n",
        "print(\"Compute the eigenvalues and eigenvectors of matrix A\")\n",
        "eigenvalues, eigenvectors = np.linalg.eig(A)\n",
        "print(\"Eigenvalues:\", eigenvalues)\n",
        "print(\"Eigenvectors:\\n\", eigenvectors)\n",
        "\n",
        "print(\"Create a vector b for the linear equation Ax = b\")\n",
        "b_vec = np.array([5., 7.])\n",
        "\n",
        "print(\"Solve the linear system Ax = b\")\n",
        "x_sol = np.linalg.solve(A, b_vec)\n",
        "print(x_sol)\n",
        "\n",
        "print(\"Perform Singular Value Decomposition (SVD) on matrix A\")\n",
        "U, S, Vt = np.linalg.svd(A)\n",
        "print(\"U matrix:\\n\", U)\n",
        "print(\"Singular values:\", S)\n",
        "print(\"V^T matrix:\\n\", Vt)\n",
        "\n",
        "print(\"Compute the L2 norm (default) of vector v\")\n",
        "print(np.linalg.norm(v))\n",
        "\n",
        "print(\"Compute the L1 norm of vector v\")\n",
        "print(np.linalg.norm(v, ord=1))\n",
        "\n",
        "print(\"Compute the infinity norm of vector v\")\n",
        "print(np.linalg.norm(v, ord=np.inf))\n",
        "\n",
        "print(\"Compute the L2 norm (Euclidean) of vector v\")\n",
        "print(np.linalg.norm(v, ord=2))\n",
        "\n",
        "print(\"Compute the Frobenius norm (default) of matrix A\")\n",
        "print(np.linalg.norm(A))\n",
        "\n",
        "print(\"Compute the matrix 1-norm (maximum column sum) of matrix A\")\n",
        "print(np.linalg.norm(A, ord=1))\n",
        "\n",
        "print(\"Compute the matrix infinity norm (maximum row sum) of matrix A\")\n",
        "print(np.linalg.norm(A, ord=np.inf))\n",
        "\n",
        "print(\"Compute the matrix 2-norm (spectral norm) of matrix A\")\n",
        "print(np.linalg.norm(A, ord=2))\n",
        "\n",
        "print(\"Compute the trace of matrix A (sum of diagonal elements)\")\n",
        "print(np.trace(A))\n"
      ],
      "metadata": {
        "colab": {
          "base_uri": "https://localhost:8080/"
        },
        "id": "PB7CF2pRtugd",
        "outputId": "5b33ce1c-2c51-4155-eeaf-799dde1968d5"
      },
      "execution_count": 11,
      "outputs": [
        {
          "output_type": "stream",
          "name": "stdout",
          "text": [
            "[[-2.   1. ]\n",
            " [ 1.5 -0.5]]\n",
            "-2.0000000000000004\n",
            "[-0.37228132  5.37228132]\n",
            "[[-0.82456484 -0.41597356]\n",
            " [ 0.56576746 -0.90937671]]\n",
            "[-3.  4.]\n",
            "[[-0.40455358 -0.9145143 ]\n",
            " [-0.9145143   0.40455358]]\n",
            "[5.4649857  0.36596619]\n",
            "[[-0.57604844 -0.81741556]\n",
            " [ 0.81741556 -0.57604844]]\n",
            "1.118033988749895\n",
            "1.5\n",
            "1.0\n",
            "1.118033988749895\n",
            "5.477225575051661\n",
            "6.0\n",
            "7.0\n",
            "5.464985704219043\n",
            "5.0\n"
          ]
        }
      ]
    }
  ]
}